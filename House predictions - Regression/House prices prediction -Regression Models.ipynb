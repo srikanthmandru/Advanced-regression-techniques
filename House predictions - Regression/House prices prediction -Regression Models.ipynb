{
 "cells": [
  {
   "cell_type": "code",
   "execution_count": null,
   "metadata": {},
   "outputs": [],
   "source": []
  },
  {
   "cell_type": "markdown",
   "metadata": {},
   "source": [
    "### Load Libraries"
   ]
  },
  {
   "cell_type": "code",
   "execution_count": 1,
   "metadata": {},
   "outputs": [],
   "source": [
    "import numpy as np\n",
    "import matplotlib.pyplot as plt\n",
    "import pandas as pd\n",
    "import seaborn as sns\n",
    "from sklearn.linear_model import *\n",
    "from sklearn.tree import DecisionTreeRegressor \n",
    "from sklearn.preprocessing import StandardScaler\n",
    "from sklearn.impute import SimpleImputer as SI\n",
    "from sklearn.pipeline import Pipeline\n",
    "from sklearn.model_selection import train_test_split, GridSearchCV\n",
    "from sklearn.metrics import mean_squared_error, r2_score\n"
   ]
  },
  {
   "cell_type": "markdown",
   "metadata": {},
   "source": [
    "### Load dataset and preprocess"
   ]
  },
  {
   "cell_type": "code",
   "execution_count": 2,
   "metadata": {},
   "outputs": [
    {
     "data": {
      "text/html": [
       "<div>\n",
       "<style scoped>\n",
       "    .dataframe tbody tr th:only-of-type {\n",
       "        vertical-align: middle;\n",
       "    }\n",
       "\n",
       "    .dataframe tbody tr th {\n",
       "        vertical-align: top;\n",
       "    }\n",
       "\n",
       "    .dataframe thead th {\n",
       "        text-align: right;\n",
       "    }\n",
       "</style>\n",
       "<table border=\"1\" class=\"dataframe\">\n",
       "  <thead>\n",
       "    <tr style=\"text-align: right;\">\n",
       "      <th></th>\n",
       "      <th>Id</th>\n",
       "      <th>MSSubClass</th>\n",
       "      <th>LotFrontage</th>\n",
       "      <th>LotArea</th>\n",
       "      <th>OverallQual</th>\n",
       "      <th>OverallCond</th>\n",
       "      <th>YearBuilt</th>\n",
       "      <th>YearRemodAdd</th>\n",
       "      <th>MasVnrArea</th>\n",
       "      <th>BsmtFinSF1</th>\n",
       "      <th>...</th>\n",
       "      <th>WoodDeckSF</th>\n",
       "      <th>OpenPorchSF</th>\n",
       "      <th>EnclosedPorch</th>\n",
       "      <th>3SsnPorch</th>\n",
       "      <th>ScreenPorch</th>\n",
       "      <th>PoolArea</th>\n",
       "      <th>MiscVal</th>\n",
       "      <th>MoSold</th>\n",
       "      <th>YrSold</th>\n",
       "      <th>SalePrice</th>\n",
       "    </tr>\n",
       "  </thead>\n",
       "  <tbody>\n",
       "    <tr>\n",
       "      <td>count</td>\n",
       "      <td>2919.000000</td>\n",
       "      <td>2919.000000</td>\n",
       "      <td>2433.000000</td>\n",
       "      <td>2919.000000</td>\n",
       "      <td>2919.000000</td>\n",
       "      <td>2919.000000</td>\n",
       "      <td>2919.000000</td>\n",
       "      <td>2919.000000</td>\n",
       "      <td>2896.000000</td>\n",
       "      <td>2918.000000</td>\n",
       "      <td>...</td>\n",
       "      <td>2919.000000</td>\n",
       "      <td>2919.000000</td>\n",
       "      <td>2919.000000</td>\n",
       "      <td>2919.000000</td>\n",
       "      <td>2919.000000</td>\n",
       "      <td>2919.000000</td>\n",
       "      <td>2919.000000</td>\n",
       "      <td>2919.000000</td>\n",
       "      <td>2919.000000</td>\n",
       "      <td>1460.000000</td>\n",
       "    </tr>\n",
       "    <tr>\n",
       "      <td>mean</td>\n",
       "      <td>1460.000000</td>\n",
       "      <td>57.137718</td>\n",
       "      <td>69.305795</td>\n",
       "      <td>10168.114080</td>\n",
       "      <td>6.089072</td>\n",
       "      <td>5.564577</td>\n",
       "      <td>1971.312778</td>\n",
       "      <td>1984.264474</td>\n",
       "      <td>102.201312</td>\n",
       "      <td>441.423235</td>\n",
       "      <td>...</td>\n",
       "      <td>93.709832</td>\n",
       "      <td>47.486811</td>\n",
       "      <td>23.098321</td>\n",
       "      <td>2.602261</td>\n",
       "      <td>16.062350</td>\n",
       "      <td>2.251799</td>\n",
       "      <td>50.825968</td>\n",
       "      <td>6.213087</td>\n",
       "      <td>2007.792737</td>\n",
       "      <td>180921.195890</td>\n",
       "    </tr>\n",
       "    <tr>\n",
       "      <td>std</td>\n",
       "      <td>842.787043</td>\n",
       "      <td>42.517628</td>\n",
       "      <td>23.344905</td>\n",
       "      <td>7886.996359</td>\n",
       "      <td>1.409947</td>\n",
       "      <td>1.113131</td>\n",
       "      <td>30.291442</td>\n",
       "      <td>20.894344</td>\n",
       "      <td>179.334253</td>\n",
       "      <td>455.610826</td>\n",
       "      <td>...</td>\n",
       "      <td>126.526589</td>\n",
       "      <td>67.575493</td>\n",
       "      <td>64.244246</td>\n",
       "      <td>25.188169</td>\n",
       "      <td>56.184365</td>\n",
       "      <td>35.663946</td>\n",
       "      <td>567.402211</td>\n",
       "      <td>2.714762</td>\n",
       "      <td>1.314964</td>\n",
       "      <td>79442.502883</td>\n",
       "    </tr>\n",
       "    <tr>\n",
       "      <td>min</td>\n",
       "      <td>1.000000</td>\n",
       "      <td>20.000000</td>\n",
       "      <td>21.000000</td>\n",
       "      <td>1300.000000</td>\n",
       "      <td>1.000000</td>\n",
       "      <td>1.000000</td>\n",
       "      <td>1872.000000</td>\n",
       "      <td>1950.000000</td>\n",
       "      <td>0.000000</td>\n",
       "      <td>0.000000</td>\n",
       "      <td>...</td>\n",
       "      <td>0.000000</td>\n",
       "      <td>0.000000</td>\n",
       "      <td>0.000000</td>\n",
       "      <td>0.000000</td>\n",
       "      <td>0.000000</td>\n",
       "      <td>0.000000</td>\n",
       "      <td>0.000000</td>\n",
       "      <td>1.000000</td>\n",
       "      <td>2006.000000</td>\n",
       "      <td>34900.000000</td>\n",
       "    </tr>\n",
       "    <tr>\n",
       "      <td>25%</td>\n",
       "      <td>730.500000</td>\n",
       "      <td>20.000000</td>\n",
       "      <td>59.000000</td>\n",
       "      <td>7478.000000</td>\n",
       "      <td>5.000000</td>\n",
       "      <td>5.000000</td>\n",
       "      <td>1953.500000</td>\n",
       "      <td>1965.000000</td>\n",
       "      <td>0.000000</td>\n",
       "      <td>0.000000</td>\n",
       "      <td>...</td>\n",
       "      <td>0.000000</td>\n",
       "      <td>0.000000</td>\n",
       "      <td>0.000000</td>\n",
       "      <td>0.000000</td>\n",
       "      <td>0.000000</td>\n",
       "      <td>0.000000</td>\n",
       "      <td>0.000000</td>\n",
       "      <td>4.000000</td>\n",
       "      <td>2007.000000</td>\n",
       "      <td>129975.000000</td>\n",
       "    </tr>\n",
       "    <tr>\n",
       "      <td>50%</td>\n",
       "      <td>1460.000000</td>\n",
       "      <td>50.000000</td>\n",
       "      <td>68.000000</td>\n",
       "      <td>9453.000000</td>\n",
       "      <td>6.000000</td>\n",
       "      <td>5.000000</td>\n",
       "      <td>1973.000000</td>\n",
       "      <td>1993.000000</td>\n",
       "      <td>0.000000</td>\n",
       "      <td>368.500000</td>\n",
       "      <td>...</td>\n",
       "      <td>0.000000</td>\n",
       "      <td>26.000000</td>\n",
       "      <td>0.000000</td>\n",
       "      <td>0.000000</td>\n",
       "      <td>0.000000</td>\n",
       "      <td>0.000000</td>\n",
       "      <td>0.000000</td>\n",
       "      <td>6.000000</td>\n",
       "      <td>2008.000000</td>\n",
       "      <td>163000.000000</td>\n",
       "    </tr>\n",
       "    <tr>\n",
       "      <td>75%</td>\n",
       "      <td>2189.500000</td>\n",
       "      <td>70.000000</td>\n",
       "      <td>80.000000</td>\n",
       "      <td>11570.000000</td>\n",
       "      <td>7.000000</td>\n",
       "      <td>6.000000</td>\n",
       "      <td>2001.000000</td>\n",
       "      <td>2004.000000</td>\n",
       "      <td>164.000000</td>\n",
       "      <td>733.000000</td>\n",
       "      <td>...</td>\n",
       "      <td>168.000000</td>\n",
       "      <td>70.000000</td>\n",
       "      <td>0.000000</td>\n",
       "      <td>0.000000</td>\n",
       "      <td>0.000000</td>\n",
       "      <td>0.000000</td>\n",
       "      <td>0.000000</td>\n",
       "      <td>8.000000</td>\n",
       "      <td>2009.000000</td>\n",
       "      <td>214000.000000</td>\n",
       "    </tr>\n",
       "    <tr>\n",
       "      <td>max</td>\n",
       "      <td>2919.000000</td>\n",
       "      <td>190.000000</td>\n",
       "      <td>313.000000</td>\n",
       "      <td>215245.000000</td>\n",
       "      <td>10.000000</td>\n",
       "      <td>9.000000</td>\n",
       "      <td>2010.000000</td>\n",
       "      <td>2010.000000</td>\n",
       "      <td>1600.000000</td>\n",
       "      <td>5644.000000</td>\n",
       "      <td>...</td>\n",
       "      <td>1424.000000</td>\n",
       "      <td>742.000000</td>\n",
       "      <td>1012.000000</td>\n",
       "      <td>508.000000</td>\n",
       "      <td>576.000000</td>\n",
       "      <td>800.000000</td>\n",
       "      <td>17000.000000</td>\n",
       "      <td>12.000000</td>\n",
       "      <td>2010.000000</td>\n",
       "      <td>755000.000000</td>\n",
       "    </tr>\n",
       "  </tbody>\n",
       "</table>\n",
       "<p>8 rows × 38 columns</p>\n",
       "</div>"
      ],
      "text/plain": [
       "                Id   MSSubClass  LotFrontage        LotArea  OverallQual  \\\n",
       "count  2919.000000  2919.000000  2433.000000    2919.000000  2919.000000   \n",
       "mean   1460.000000    57.137718    69.305795   10168.114080     6.089072   \n",
       "std     842.787043    42.517628    23.344905    7886.996359     1.409947   \n",
       "min       1.000000    20.000000    21.000000    1300.000000     1.000000   \n",
       "25%     730.500000    20.000000    59.000000    7478.000000     5.000000   \n",
       "50%    1460.000000    50.000000    68.000000    9453.000000     6.000000   \n",
       "75%    2189.500000    70.000000    80.000000   11570.000000     7.000000   \n",
       "max    2919.000000   190.000000   313.000000  215245.000000    10.000000   \n",
       "\n",
       "       OverallCond    YearBuilt  YearRemodAdd   MasVnrArea   BsmtFinSF1  ...  \\\n",
       "count  2919.000000  2919.000000   2919.000000  2896.000000  2918.000000  ...   \n",
       "mean      5.564577  1971.312778   1984.264474   102.201312   441.423235  ...   \n",
       "std       1.113131    30.291442     20.894344   179.334253   455.610826  ...   \n",
       "min       1.000000  1872.000000   1950.000000     0.000000     0.000000  ...   \n",
       "25%       5.000000  1953.500000   1965.000000     0.000000     0.000000  ...   \n",
       "50%       5.000000  1973.000000   1993.000000     0.000000   368.500000  ...   \n",
       "75%       6.000000  2001.000000   2004.000000   164.000000   733.000000  ...   \n",
       "max       9.000000  2010.000000   2010.000000  1600.000000  5644.000000  ...   \n",
       "\n",
       "        WoodDeckSF  OpenPorchSF  EnclosedPorch    3SsnPorch  ScreenPorch  \\\n",
       "count  2919.000000  2919.000000    2919.000000  2919.000000  2919.000000   \n",
       "mean     93.709832    47.486811      23.098321     2.602261    16.062350   \n",
       "std     126.526589    67.575493      64.244246    25.188169    56.184365   \n",
       "min       0.000000     0.000000       0.000000     0.000000     0.000000   \n",
       "25%       0.000000     0.000000       0.000000     0.000000     0.000000   \n",
       "50%       0.000000    26.000000       0.000000     0.000000     0.000000   \n",
       "75%     168.000000    70.000000       0.000000     0.000000     0.000000   \n",
       "max    1424.000000   742.000000    1012.000000   508.000000   576.000000   \n",
       "\n",
       "          PoolArea       MiscVal       MoSold       YrSold      SalePrice  \n",
       "count  2919.000000   2919.000000  2919.000000  2919.000000    1460.000000  \n",
       "mean      2.251799     50.825968     6.213087  2007.792737  180921.195890  \n",
       "std      35.663946    567.402211     2.714762     1.314964   79442.502883  \n",
       "min       0.000000      0.000000     1.000000  2006.000000   34900.000000  \n",
       "25%       0.000000      0.000000     4.000000  2007.000000  129975.000000  \n",
       "50%       0.000000      0.000000     6.000000  2008.000000  163000.000000  \n",
       "75%       0.000000      0.000000     8.000000  2009.000000  214000.000000  \n",
       "max     800.000000  17000.000000    12.000000  2010.000000  755000.000000  \n",
       "\n",
       "[8 rows x 38 columns]"
      ]
     },
     "execution_count": 2,
     "metadata": {},
     "output_type": "execute_result"
    }
   ],
   "source": [
    "house_train_data = pd.read_csv('train.csv', na_values=[''])\n",
    "house_test_data = pd.read_csv('test.csv', na_values=[''])\n",
    "\n",
    "house_data = pd.concat([house_train_data, house_test_data], axis = 0, sort=False)\n",
    "train_id = house_train_data['Id']\n",
    "test_id = house_test_data['Id']\n",
    "house_data.describe()"
   ]
  },
  {
   "cell_type": "code",
   "execution_count": 3,
   "metadata": {},
   "outputs": [
    {
     "data": {
      "text/plain": [
       "0          1\n",
       "1          2\n",
       "2          3\n",
       "3          4\n",
       "4          5\n",
       "        ... \n",
       "1455    1456\n",
       "1456    1457\n",
       "1457    1458\n",
       "1458    1459\n",
       "1459    1460\n",
       "Name: Id, Length: 1460, dtype: int64"
      ]
     },
     "execution_count": 3,
     "metadata": {},
     "output_type": "execute_result"
    }
   ],
   "source": [
    "house_train_data\n",
    "train_id"
   ]
  },
  {
   "cell_type": "code",
   "execution_count": 4,
   "metadata": {},
   "outputs": [
    {
     "data": {
      "text/plain": [
       "0       1461\n",
       "1       1462\n",
       "2       1463\n",
       "3       1464\n",
       "4       1465\n",
       "        ... \n",
       "1454    2915\n",
       "1455    2916\n",
       "1456    2917\n",
       "1457    2918\n",
       "1458    2919\n",
       "Name: Id, Length: 1459, dtype: int64"
      ]
     },
     "execution_count": 4,
     "metadata": {},
     "output_type": "execute_result"
    }
   ],
   "source": [
    "house_test_data\n",
    "test_id"
   ]
  },
  {
   "cell_type": "code",
   "execution_count": 5,
   "metadata": {},
   "outputs": [
    {
     "name": "stdout",
     "output_type": "stream",
     "text": [
      "<class 'pandas.core.frame.DataFrame'>\n",
      "Int64Index: 2919 entries, 0 to 1458\n",
      "Data columns (total 81 columns):\n",
      "Id               2919 non-null int64\n",
      "MSSubClass       2919 non-null int64\n",
      "MSZoning         2915 non-null object\n",
      "LotFrontage      2433 non-null float64\n",
      "LotArea          2919 non-null int64\n",
      "Street           2919 non-null object\n",
      "Alley            198 non-null object\n",
      "LotShape         2919 non-null object\n",
      "LandContour      2919 non-null object\n",
      "Utilities        2917 non-null object\n",
      "LotConfig        2919 non-null object\n",
      "LandSlope        2919 non-null object\n",
      "Neighborhood     2919 non-null object\n",
      "Condition1       2919 non-null object\n",
      "Condition2       2919 non-null object\n",
      "BldgType         2919 non-null object\n",
      "HouseStyle       2919 non-null object\n",
      "OverallQual      2919 non-null int64\n",
      "OverallCond      2919 non-null int64\n",
      "YearBuilt        2919 non-null int64\n",
      "YearRemodAdd     2919 non-null int64\n",
      "RoofStyle        2919 non-null object\n",
      "RoofMatl         2919 non-null object\n",
      "Exterior1st      2918 non-null object\n",
      "Exterior2nd      2918 non-null object\n",
      "MasVnrType       2895 non-null object\n",
      "MasVnrArea       2896 non-null float64\n",
      "ExterQual        2919 non-null object\n",
      "ExterCond        2919 non-null object\n",
      "Foundation       2919 non-null object\n",
      "BsmtQual         2838 non-null object\n",
      "BsmtCond         2837 non-null object\n",
      "BsmtExposure     2837 non-null object\n",
      "BsmtFinType1     2840 non-null object\n",
      "BsmtFinSF1       2918 non-null float64\n",
      "BsmtFinType2     2839 non-null object\n",
      "BsmtFinSF2       2918 non-null float64\n",
      "BsmtUnfSF        2918 non-null float64\n",
      "TotalBsmtSF      2918 non-null float64\n",
      "Heating          2919 non-null object\n",
      "HeatingQC        2919 non-null object\n",
      "CentralAir       2919 non-null object\n",
      "Electrical       2918 non-null object\n",
      "1stFlrSF         2919 non-null int64\n",
      "2ndFlrSF         2919 non-null int64\n",
      "LowQualFinSF     2919 non-null int64\n",
      "GrLivArea        2919 non-null int64\n",
      "BsmtFullBath     2917 non-null float64\n",
      "BsmtHalfBath     2917 non-null float64\n",
      "FullBath         2919 non-null int64\n",
      "HalfBath         2919 non-null int64\n",
      "BedroomAbvGr     2919 non-null int64\n",
      "KitchenAbvGr     2919 non-null int64\n",
      "KitchenQual      2918 non-null object\n",
      "TotRmsAbvGrd     2919 non-null int64\n",
      "Functional       2917 non-null object\n",
      "Fireplaces       2919 non-null int64\n",
      "FireplaceQu      1499 non-null object\n",
      "GarageType       2762 non-null object\n",
      "GarageYrBlt      2760 non-null float64\n",
      "GarageFinish     2760 non-null object\n",
      "GarageCars       2918 non-null float64\n",
      "GarageArea       2918 non-null float64\n",
      "GarageQual       2760 non-null object\n",
      "GarageCond       2760 non-null object\n",
      "PavedDrive       2919 non-null object\n",
      "WoodDeckSF       2919 non-null int64\n",
      "OpenPorchSF      2919 non-null int64\n",
      "EnclosedPorch    2919 non-null int64\n",
      "3SsnPorch        2919 non-null int64\n",
      "ScreenPorch      2919 non-null int64\n",
      "PoolArea         2919 non-null int64\n",
      "PoolQC           10 non-null object\n",
      "Fence            571 non-null object\n",
      "MiscFeature      105 non-null object\n",
      "MiscVal          2919 non-null int64\n",
      "MoSold           2919 non-null int64\n",
      "YrSold           2919 non-null int64\n",
      "SaleType         2918 non-null object\n",
      "SaleCondition    2919 non-null object\n",
      "SalePrice        1460 non-null float64\n",
      "dtypes: float64(12), int64(26), object(43)\n",
      "memory usage: 1.8+ MB\n"
     ]
    }
   ],
   "source": [
    "house_data.info()"
   ]
  },
  {
   "cell_type": "code",
   "execution_count": null,
   "metadata": {},
   "outputs": [],
   "source": []
  },
  {
   "cell_type": "markdown",
   "metadata": {},
   "source": [
    "#### Handling missing data - categorical variables"
   ]
  },
  {
   "cell_type": "code",
   "execution_count": 6,
   "metadata": {},
   "outputs": [
    {
     "name": "stdout",
     "output_type": "stream",
     "text": [
      "MSZoning           4\n",
      "Alley           2721\n",
      "Utilities          2\n",
      "Exterior1st        1\n",
      "Exterior2nd        1\n",
      "MasVnrType        24\n",
      "BsmtQual          81\n",
      "BsmtCond          82\n",
      "BsmtExposure      82\n",
      "BsmtFinType1      79\n",
      "BsmtFinType2      80\n",
      "Electrical         1\n",
      "KitchenQual        1\n",
      "Functional         2\n",
      "FireplaceQu     1420\n",
      "GarageType       157\n",
      "GarageFinish     159\n",
      "GarageQual       159\n",
      "GarageCond       159\n",
      "PoolQC          2909\n",
      "Fence           2348\n",
      "MiscFeature     2814\n",
      "SaleType           1\n",
      "dtype: int64\n",
      "['MSZoning', 'Alley', 'Utilities', 'Exterior1st', 'Exterior2nd', 'MasVnrType', 'BsmtQual', 'BsmtCond', 'BsmtExposure', 'BsmtFinType1', 'BsmtFinType2', 'Electrical', 'KitchenQual', 'Functional', 'FireplaceQu', 'GarageType', 'GarageFinish', 'GarageQual', 'GarageCond', 'PoolQC', 'Fence', 'MiscFeature', 'SaleType']\n"
     ]
    }
   ],
   "source": [
    "missing_values_objects = house_data.select_dtypes(include='object').isnull().sum()[house_data.select_dtypes(include='object').isnull().sum()>0]\n",
    "\n",
    "print(missing_values_objects)\n",
    "\n",
    "missing_values_objects_columns = list(missing_values_objects.index)\n",
    "\n",
    "print(missing_values_objects_columns)\n"
   ]
  },
  {
   "cell_type": "code",
   "execution_count": 7,
   "metadata": {},
   "outputs": [],
   "source": [
    "NA_columns = list(['MSZoning','Exterior1st','Exterior2nd','KitchenQual','SaleType','Functional'])\n",
    "missing_values_objects_columns_None = [x for x in missing_values_objects_columns if x not in NA_columns]\n",
    "\n",
    "for column in missing_values_objects_columns_None:\n",
    "    house_data[column].replace(np.nan , 'None' , inplace = True)\n",
    "\n",
    "for column in NA_columns:\n",
    "    house_data[column].replace(np.nan, house_data[column].mode()[0] , inplace = True)\n",
    "\n"
   ]
  },
  {
   "cell_type": "code",
   "execution_count": 8,
   "metadata": {},
   "outputs": [
    {
     "data": {
      "text/plain": [
       "Series([], dtype: int64)"
      ]
     },
     "execution_count": 8,
     "metadata": {},
     "output_type": "execute_result"
    }
   ],
   "source": [
    "house_data.select_dtypes(include='object').isnull().sum()[house_data.select_dtypes(include='object').isnull().sum()>0]"
   ]
  },
  {
   "cell_type": "markdown",
   "metadata": {},
   "source": [
    "#### missing data - numerical variables\n"
   ]
  },
  {
   "cell_type": "code",
   "execution_count": 9,
   "metadata": {},
   "outputs": [
    {
     "name": "stdout",
     "output_type": "stream",
     "text": [
      "LotFrontage      486\n",
      "MasVnrArea        23\n",
      "BsmtFinSF1         1\n",
      "BsmtFinSF2         1\n",
      "BsmtUnfSF          1\n",
      "TotalBsmtSF        1\n",
      "BsmtFullBath       2\n",
      "BsmtHalfBath       2\n",
      "GarageYrBlt      159\n",
      "GarageCars         1\n",
      "GarageArea         1\n",
      "SalePrice       1459\n",
      "dtype: int64\n",
      "['LotFrontage', 'MasVnrArea', 'BsmtFinSF1', 'BsmtFinSF2', 'BsmtUnfSF', 'TotalBsmtSF', 'BsmtFullBath', 'BsmtHalfBath', 'GarageYrBlt', 'GarageCars', 'GarageArea', 'SalePrice']\n"
     ]
    }
   ],
   "source": [
    "missing_values_numeric = house_data.select_dtypes(include=['float64','int64']).isnull().sum()[house_data.select_dtypes(include=['float64','int64']).isnull().sum()>0]\n",
    "\n",
    "print(missing_values_numeric)\n",
    "\n",
    "missing_values_numeric_columns = list(missing_values_numeric.index)\n",
    "\n",
    "print(missing_values_numeric_columns)"
   ]
  },
  {
   "cell_type": "code",
   "execution_count": 10,
   "metadata": {},
   "outputs": [],
   "source": [
    "NA_columns = list(['LotFrontage'])\n",
    "missing_values_numeric_columns_None = [x for x in missing_values_numeric_columns if x not in NA_columns]\n",
    "\n",
    "for column in missing_values_numeric_columns_None:\n",
    "    house_data[column].replace(np.nan,  0 , inplace = True)\n",
    "\n",
    "\n",
    "for column in NA_columns:\n",
    "    house_data[column].replace(np.nan, house_data[column].mean()  , inplace = True)\n",
    "    \n",
    "\n"
   ]
  },
  {
   "cell_type": "code",
   "execution_count": 11,
   "metadata": {},
   "outputs": [
    {
     "data": {
      "text/plain": [
       "<matplotlib.axes._subplots.AxesSubplot at 0x1a2312a710>"
      ]
     },
     "execution_count": 11,
     "metadata": {},
     "output_type": "execute_result"
    },
    {
     "data": {
      "image/png": "[encoded data removed]",
      "text/plain": [
       "<Figure size 432x288 with 2 Axes>"
      ]
     },
     "metadata": {
      "needs_background": "light"
     },
     "output_type": "display_data"
    }
   ],
   "source": [
    "# sns.pairplot(house_data)\n",
    "sns.heatmap(house_data.corr(),square=True, cmap='RdYlGn')\n"
   ]
  },
  {
   "cell_type": "code",
   "execution_count": 12,
   "metadata": {},
   "outputs": [
    {
     "data": {
      "text/plain": [
       "0"
      ]
     },
     "execution_count": 12,
     "metadata": {},
     "output_type": "execute_result"
    }
   ],
   "source": [
    "len(house_data.isnull().sum()[house_data.isnull().sum()>0])\n"
   ]
  },
  {
   "cell_type": "code",
   "execution_count": 13,
   "metadata": {},
   "outputs": [],
   "source": [
    "\n",
    "house_data['MSSubClass'] = house_data['MSSubClass'].astype(str)\n",
    "\n",
    "house_data['OverallCond'] = house_data['OverallCond'].astype(str)\n",
    "\n",
    "house_data['YrSold'] = house_data['YrSold'].astype(str)\n",
    "\n",
    "house_data['MoSold'] = house_data['MoSold'].astype(str)\n"
   ]
  },
  {
   "cell_type": "code",
   "execution_count": 14,
   "metadata": {},
   "outputs": [
    {
     "data": {
      "text/plain": [
       "dtype('int64')"
      ]
     },
     "execution_count": 14,
     "metadata": {},
     "output_type": "execute_result"
    }
   ],
   "source": [
    "house_data['Id'].dtype"
   ]
  },
  {
   "cell_type": "code",
   "execution_count": 15,
   "metadata": {},
   "outputs": [
    {
     "name": "stdout",
     "output_type": "stream",
     "text": [
      "<class 'pandas.core.frame.DataFrame'>\n",
      "Int64Index: 2919 entries, 0 to 1458\n",
      "Columns: 297 entries, Id to SaleCondition_Partial\n",
      "dtypes: float64(12), int64(22), uint8(263)\n",
      "memory usage: 1.5 MB\n"
     ]
    }
   ],
   "source": [
    "### handling categorical features \n",
    "\n",
    "house_data_dummies = pd.get_dummies(house_data, drop_first=True)\n",
    "house_data_dummies.info()"
   ]
  },
  {
   "cell_type": "code",
   "execution_count": 16,
   "metadata": {},
   "outputs": [
    {
     "name": "stdout",
     "output_type": "stream",
     "text": [
      "<class 'pandas.core.frame.DataFrame'>\n",
      "Int64Index: 1460 entries, 0 to 1459\n",
      "Columns: 296 entries, LotFrontage to SaleCondition_Partial\n",
      "dtypes: float64(12), int64(21), uint8(263)\n",
      "memory usage: 762.8 KB\n"
     ]
    }
   ],
   "source": [
    "house_data_for_train = house_data_dummies.iloc[ : len(train_id) ,  1: ]\n",
    "house_data_for_train.info()"
   ]
  },
  {
   "cell_type": "code",
   "execution_count": 17,
   "metadata": {},
   "outputs": [
    {
     "name": "stdout",
     "output_type": "stream",
     "text": [
      "0\n"
     ]
    },
    {
     "data": {
      "text/html": [
       "<div>\n",
       "<style scoped>\n",
       "    .dataframe tbody tr th:only-of-type {\n",
       "        vertical-align: middle;\n",
       "    }\n",
       "\n",
       "    .dataframe tbody tr th {\n",
       "        vertical-align: top;\n",
       "    }\n",
       "\n",
       "    .dataframe thead th {\n",
       "        text-align: right;\n",
       "    }\n",
       "</style>\n",
       "<table border=\"1\" class=\"dataframe\">\n",
       "  <thead>\n",
       "    <tr style=\"text-align: right;\">\n",
       "      <th></th>\n",
       "      <th>LotFrontage</th>\n",
       "      <th>LotArea</th>\n",
       "      <th>OverallQual</th>\n",
       "      <th>YearBuilt</th>\n",
       "      <th>YearRemodAdd</th>\n",
       "      <th>MasVnrArea</th>\n",
       "      <th>BsmtFinSF1</th>\n",
       "      <th>BsmtFinSF2</th>\n",
       "      <th>BsmtUnfSF</th>\n",
       "      <th>TotalBsmtSF</th>\n",
       "      <th>...</th>\n",
       "      <th>SaleType_ConLI</th>\n",
       "      <th>SaleType_ConLw</th>\n",
       "      <th>SaleType_New</th>\n",
       "      <th>SaleType_Oth</th>\n",
       "      <th>SaleType_WD</th>\n",
       "      <th>SaleCondition_AdjLand</th>\n",
       "      <th>SaleCondition_Alloca</th>\n",
       "      <th>SaleCondition_Family</th>\n",
       "      <th>SaleCondition_Normal</th>\n",
       "      <th>SaleCondition_Partial</th>\n",
       "    </tr>\n",
       "  </thead>\n",
       "  <tbody>\n",
       "    <tr>\n",
       "      <td>0</td>\n",
       "      <td>65.0</td>\n",
       "      <td>8450</td>\n",
       "      <td>7</td>\n",
       "      <td>2003</td>\n",
       "      <td>2003</td>\n",
       "      <td>196.0</td>\n",
       "      <td>706.0</td>\n",
       "      <td>0.0</td>\n",
       "      <td>150.0</td>\n",
       "      <td>856.0</td>\n",
       "      <td>...</td>\n",
       "      <td>0</td>\n",
       "      <td>0</td>\n",
       "      <td>0</td>\n",
       "      <td>0</td>\n",
       "      <td>1</td>\n",
       "      <td>0</td>\n",
       "      <td>0</td>\n",
       "      <td>0</td>\n",
       "      <td>1</td>\n",
       "      <td>0</td>\n",
       "    </tr>\n",
       "    <tr>\n",
       "      <td>1</td>\n",
       "      <td>80.0</td>\n",
       "      <td>9600</td>\n",
       "      <td>6</td>\n",
       "      <td>1976</td>\n",
       "      <td>1976</td>\n",
       "      <td>0.0</td>\n",
       "      <td>978.0</td>\n",
       "      <td>0.0</td>\n",
       "      <td>284.0</td>\n",
       "      <td>1262.0</td>\n",
       "      <td>...</td>\n",
       "      <td>0</td>\n",
       "      <td>0</td>\n",
       "      <td>0</td>\n",
       "      <td>0</td>\n",
       "      <td>1</td>\n",
       "      <td>0</td>\n",
       "      <td>0</td>\n",
       "      <td>0</td>\n",
       "      <td>1</td>\n",
       "      <td>0</td>\n",
       "    </tr>\n",
       "    <tr>\n",
       "      <td>2</td>\n",
       "      <td>68.0</td>\n",
       "      <td>11250</td>\n",
       "      <td>7</td>\n",
       "      <td>2001</td>\n",
       "      <td>2002</td>\n",
       "      <td>162.0</td>\n",
       "      <td>486.0</td>\n",
       "      <td>0.0</td>\n",
       "      <td>434.0</td>\n",
       "      <td>920.0</td>\n",
       "      <td>...</td>\n",
       "      <td>0</td>\n",
       "      <td>0</td>\n",
       "      <td>0</td>\n",
       "      <td>0</td>\n",
       "      <td>1</td>\n",
       "      <td>0</td>\n",
       "      <td>0</td>\n",
       "      <td>0</td>\n",
       "      <td>1</td>\n",
       "      <td>0</td>\n",
       "    </tr>\n",
       "    <tr>\n",
       "      <td>3</td>\n",
       "      <td>60.0</td>\n",
       "      <td>9550</td>\n",
       "      <td>7</td>\n",
       "      <td>1915</td>\n",
       "      <td>1970</td>\n",
       "      <td>0.0</td>\n",
       "      <td>216.0</td>\n",
       "      <td>0.0</td>\n",
       "      <td>540.0</td>\n",
       "      <td>756.0</td>\n",
       "      <td>...</td>\n",
       "      <td>0</td>\n",
       "      <td>0</td>\n",
       "      <td>0</td>\n",
       "      <td>0</td>\n",
       "      <td>1</td>\n",
       "      <td>0</td>\n",
       "      <td>0</td>\n",
       "      <td>0</td>\n",
       "      <td>0</td>\n",
       "      <td>0</td>\n",
       "    </tr>\n",
       "    <tr>\n",
       "      <td>4</td>\n",
       "      <td>84.0</td>\n",
       "      <td>14260</td>\n",
       "      <td>8</td>\n",
       "      <td>2000</td>\n",
       "      <td>2000</td>\n",
       "      <td>350.0</td>\n",
       "      <td>655.0</td>\n",
       "      <td>0.0</td>\n",
       "      <td>490.0</td>\n",
       "      <td>1145.0</td>\n",
       "      <td>...</td>\n",
       "      <td>0</td>\n",
       "      <td>0</td>\n",
       "      <td>0</td>\n",
       "      <td>0</td>\n",
       "      <td>1</td>\n",
       "      <td>0</td>\n",
       "      <td>0</td>\n",
       "      <td>0</td>\n",
       "      <td>1</td>\n",
       "      <td>0</td>\n",
       "    </tr>\n",
       "    <tr>\n",
       "      <td>...</td>\n",
       "      <td>...</td>\n",
       "      <td>...</td>\n",
       "      <td>...</td>\n",
       "      <td>...</td>\n",
       "      <td>...</td>\n",
       "      <td>...</td>\n",
       "      <td>...</td>\n",
       "      <td>...</td>\n",
       "      <td>...</td>\n",
       "      <td>...</td>\n",
       "      <td>...</td>\n",
       "      <td>...</td>\n",
       "      <td>...</td>\n",
       "      <td>...</td>\n",
       "      <td>...</td>\n",
       "      <td>...</td>\n",
       "      <td>...</td>\n",
       "      <td>...</td>\n",
       "      <td>...</td>\n",
       "      <td>...</td>\n",
       "      <td>...</td>\n",
       "    </tr>\n",
       "    <tr>\n",
       "      <td>1455</td>\n",
       "      <td>62.0</td>\n",
       "      <td>7917</td>\n",
       "      <td>6</td>\n",
       "      <td>1999</td>\n",
       "      <td>2000</td>\n",
       "      <td>0.0</td>\n",
       "      <td>0.0</td>\n",
       "      <td>0.0</td>\n",
       "      <td>953.0</td>\n",
       "      <td>953.0</td>\n",
       "      <td>...</td>\n",
       "      <td>0</td>\n",
       "      <td>0</td>\n",
       "      <td>0</td>\n",
       "      <td>0</td>\n",
       "      <td>1</td>\n",
       "      <td>0</td>\n",
       "      <td>0</td>\n",
       "      <td>0</td>\n",
       "      <td>1</td>\n",
       "      <td>0</td>\n",
       "    </tr>\n",
       "    <tr>\n",
       "      <td>1456</td>\n",
       "      <td>85.0</td>\n",
       "      <td>13175</td>\n",
       "      <td>6</td>\n",
       "      <td>1978</td>\n",
       "      <td>1988</td>\n",
       "      <td>119.0</td>\n",
       "      <td>790.0</td>\n",
       "      <td>163.0</td>\n",
       "      <td>589.0</td>\n",
       "      <td>1542.0</td>\n",
       "      <td>...</td>\n",
       "      <td>0</td>\n",
       "      <td>0</td>\n",
       "      <td>0</td>\n",
       "      <td>0</td>\n",
       "      <td>1</td>\n",
       "      <td>0</td>\n",
       "      <td>0</td>\n",
       "      <td>0</td>\n",
       "      <td>1</td>\n",
       "      <td>0</td>\n",
       "    </tr>\n",
       "    <tr>\n",
       "      <td>1457</td>\n",
       "      <td>66.0</td>\n",
       "      <td>9042</td>\n",
       "      <td>7</td>\n",
       "      <td>1941</td>\n",
       "      <td>2006</td>\n",
       "      <td>0.0</td>\n",
       "      <td>275.0</td>\n",
       "      <td>0.0</td>\n",
       "      <td>877.0</td>\n",
       "      <td>1152.0</td>\n",
       "      <td>...</td>\n",
       "      <td>0</td>\n",
       "      <td>0</td>\n",
       "      <td>0</td>\n",
       "      <td>0</td>\n",
       "      <td>1</td>\n",
       "      <td>0</td>\n",
       "      <td>0</td>\n",
       "      <td>0</td>\n",
       "      <td>1</td>\n",
       "      <td>0</td>\n",
       "    </tr>\n",
       "    <tr>\n",
       "      <td>1458</td>\n",
       "      <td>68.0</td>\n",
       "      <td>9717</td>\n",
       "      <td>5</td>\n",
       "      <td>1950</td>\n",
       "      <td>1996</td>\n",
       "      <td>0.0</td>\n",
       "      <td>49.0</td>\n",
       "      <td>1029.0</td>\n",
       "      <td>0.0</td>\n",
       "      <td>1078.0</td>\n",
       "      <td>...</td>\n",
       "      <td>0</td>\n",
       "      <td>0</td>\n",
       "      <td>0</td>\n",
       "      <td>0</td>\n",
       "      <td>1</td>\n",
       "      <td>0</td>\n",
       "      <td>0</td>\n",
       "      <td>0</td>\n",
       "      <td>1</td>\n",
       "      <td>0</td>\n",
       "    </tr>\n",
       "    <tr>\n",
       "      <td>1459</td>\n",
       "      <td>75.0</td>\n",
       "      <td>9937</td>\n",
       "      <td>5</td>\n",
       "      <td>1965</td>\n",
       "      <td>1965</td>\n",
       "      <td>0.0</td>\n",
       "      <td>830.0</td>\n",
       "      <td>290.0</td>\n",
       "      <td>136.0</td>\n",
       "      <td>1256.0</td>\n",
       "      <td>...</td>\n",
       "      <td>0</td>\n",
       "      <td>0</td>\n",
       "      <td>0</td>\n",
       "      <td>0</td>\n",
       "      <td>1</td>\n",
       "      <td>0</td>\n",
       "      <td>0</td>\n",
       "      <td>0</td>\n",
       "      <td>1</td>\n",
       "      <td>0</td>\n",
       "    </tr>\n",
       "  </tbody>\n",
       "</table>\n",
       "<p>1460 rows × 296 columns</p>\n",
       "</div>"
      ],
      "text/plain": [
       "      LotFrontage  LotArea  OverallQual  YearBuilt  YearRemodAdd  MasVnrArea  \\\n",
       "0            65.0     8450            7       2003          2003       196.0   \n",
       "1            80.0     9600            6       1976          1976         0.0   \n",
       "2            68.0    11250            7       2001          2002       162.0   \n",
       "3            60.0     9550            7       1915          1970         0.0   \n",
       "4            84.0    14260            8       2000          2000       350.0   \n",
       "...           ...      ...          ...        ...           ...         ...   \n",
       "1455         62.0     7917            6       1999          2000         0.0   \n",
       "1456         85.0    13175            6       1978          1988       119.0   \n",
       "1457         66.0     9042            7       1941          2006         0.0   \n",
       "1458         68.0     9717            5       1950          1996         0.0   \n",
       "1459         75.0     9937            5       1965          1965         0.0   \n",
       "\n",
       "      BsmtFinSF1  BsmtFinSF2  BsmtUnfSF  TotalBsmtSF  ...  SaleType_ConLI  \\\n",
       "0          706.0         0.0      150.0        856.0  ...               0   \n",
       "1          978.0         0.0      284.0       1262.0  ...               0   \n",
       "2          486.0         0.0      434.0        920.0  ...               0   \n",
       "3          216.0         0.0      540.0        756.0  ...               0   \n",
       "4          655.0         0.0      490.0       1145.0  ...               0   \n",
       "...          ...         ...        ...          ...  ...             ...   \n",
       "1455         0.0         0.0      953.0        953.0  ...               0   \n",
       "1456       790.0       163.0      589.0       1542.0  ...               0   \n",
       "1457       275.0         0.0      877.0       1152.0  ...               0   \n",
       "1458        49.0      1029.0        0.0       1078.0  ...               0   \n",
       "1459       830.0       290.0      136.0       1256.0  ...               0   \n",
       "\n",
       "      SaleType_ConLw  SaleType_New  SaleType_Oth  SaleType_WD  \\\n",
       "0                  0             0             0            1   \n",
       "1                  0             0             0            1   \n",
       "2                  0             0             0            1   \n",
       "3                  0             0             0            1   \n",
       "4                  0             0             0            1   \n",
       "...              ...           ...           ...          ...   \n",
       "1455               0             0             0            1   \n",
       "1456               0             0             0            1   \n",
       "1457               0             0             0            1   \n",
       "1458               0             0             0            1   \n",
       "1459               0             0             0            1   \n",
       "\n",
       "      SaleCondition_AdjLand  SaleCondition_Alloca  SaleCondition_Family  \\\n",
       "0                         0                     0                     0   \n",
       "1                         0                     0                     0   \n",
       "2                         0                     0                     0   \n",
       "3                         0                     0                     0   \n",
       "4                         0                     0                     0   \n",
       "...                     ...                   ...                   ...   \n",
       "1455                      0                     0                     0   \n",
       "1456                      0                     0                     0   \n",
       "1457                      0                     0                     0   \n",
       "1458                      0                     0                     0   \n",
       "1459                      0                     0                     0   \n",
       "\n",
       "      SaleCondition_Normal  SaleCondition_Partial  \n",
       "0                        1                      0  \n",
       "1                        1                      0  \n",
       "2                        1                      0  \n",
       "3                        0                      0  \n",
       "4                        1                      0  \n",
       "...                    ...                    ...  \n",
       "1455                     1                      0  \n",
       "1456                     1                      0  \n",
       "1457                     1                      0  \n",
       "1458                     1                      0  \n",
       "1459                     1                      0  \n",
       "\n",
       "[1460 rows x 296 columns]"
      ]
     },
     "execution_count": 17,
     "metadata": {},
     "output_type": "execute_result"
    }
   ],
   "source": [
    "print(len(house_data_for_train.isnull().sum()[house_data_for_train.isnull().sum()>0]) )\n",
    "house_data_for_train"
   ]
  },
  {
   "cell_type": "code",
   "execution_count": 18,
   "metadata": {},
   "outputs": [
    {
     "name": "stdout",
     "output_type": "stream",
     "text": [
      "0\n"
     ]
    },
    {
     "data": {
      "text/plain": [
       "array([[8.0000e+01, 1.1622e+04, 5.0000e+00, ..., 0.0000e+00, 1.0000e+00,\n",
       "        0.0000e+00],\n",
       "       [8.1000e+01, 1.4267e+04, 6.0000e+00, ..., 0.0000e+00, 1.0000e+00,\n",
       "        0.0000e+00],\n",
       "       [7.4000e+01, 1.3830e+04, 5.0000e+00, ..., 0.0000e+00, 1.0000e+00,\n",
       "        0.0000e+00],\n",
       "       ...,\n",
       "       [1.6000e+02, 2.0000e+04, 5.0000e+00, ..., 0.0000e+00, 0.0000e+00,\n",
       "        0.0000e+00],\n",
       "       [6.2000e+01, 1.0441e+04, 5.0000e+00, ..., 0.0000e+00, 1.0000e+00,\n",
       "        0.0000e+00],\n",
       "       [7.4000e+01, 9.6270e+03, 7.0000e+00, ..., 0.0000e+00, 1.0000e+00,\n",
       "        0.0000e+00]])"
      ]
     },
     "execution_count": 18,
     "metadata": {},
     "output_type": "execute_result"
    }
   ],
   "source": [
    "house_data_for_test = house_data_dummies.iloc[len(train_id) : ,  1: ]\n",
    "print(len(house_data_for_train.isnull().sum()[house_data_for_train.isnull().sum()>0]) )\n",
    "X_test = house_data_for_test.drop('SalePrice', axis= 1).values\n",
    "X_test"
   ]
  },
  {
   "cell_type": "markdown",
   "metadata": {},
   "source": [
    "### Model "
   ]
  },
  {
   "cell_type": "code",
   "execution_count": 19,
   "metadata": {},
   "outputs": [],
   "source": [
    "### RMSE \n",
    "# Compute rmse_test\n",
    "def RSME(y_train, y_pred):\n",
    "    rmse = (mean_squared_error(y_train, y_pred))**(1/2)\n",
    "    return rmse\n",
    "    "
   ]
  },
  {
   "cell_type": "code",
   "execution_count": null,
   "metadata": {},
   "outputs": [],
   "source": []
  },
  {
   "cell_type": "code",
   "execution_count": 20,
   "metadata": {},
   "outputs": [],
   "source": [
    "all_columns = house_data_for_train.columns\n",
    "response = ['SalePrice']\n",
    "features = [x for x in all_columns if x not in response]\n",
    "\n",
    "X = house_data_for_train.loc[ : , features].values\n",
    "y = house_data_for_train.loc[: , response].values"
   ]
  },
  {
   "cell_type": "code",
   "execution_count": 21,
   "metadata": {},
   "outputs": [
    {
     "data": {
      "text/plain": [
       "(1460, 295)"
      ]
     },
     "execution_count": 21,
     "metadata": {},
     "output_type": "execute_result"
    }
   ],
   "source": [
    "X.shape"
   ]
  },
  {
   "cell_type": "code",
   "execution_count": 22,
   "metadata": {},
   "outputs": [
    {
     "data": {
      "text/plain": [
       "array([[6.500e+01, 8.450e+03, 7.000e+00, ..., 0.000e+00, 1.000e+00,\n",
       "        0.000e+00],\n",
       "       [8.000e+01, 9.600e+03, 6.000e+00, ..., 0.000e+00, 1.000e+00,\n",
       "        0.000e+00],\n",
       "       [6.800e+01, 1.125e+04, 7.000e+00, ..., 0.000e+00, 1.000e+00,\n",
       "        0.000e+00],\n",
       "       ...,\n",
       "       [6.600e+01, 9.042e+03, 7.000e+00, ..., 0.000e+00, 1.000e+00,\n",
       "        0.000e+00],\n",
       "       [6.800e+01, 9.717e+03, 5.000e+00, ..., 0.000e+00, 1.000e+00,\n",
       "        0.000e+00],\n",
       "       [7.500e+01, 9.937e+03, 5.000e+00, ..., 0.000e+00, 1.000e+00,\n",
       "        0.000e+00]])"
      ]
     },
     "execution_count": 22,
     "metadata": {},
     "output_type": "execute_result"
    }
   ],
   "source": [
    "X"
   ]
  },
  {
   "cell_type": "code",
   "execution_count": 23,
   "metadata": {},
   "outputs": [
    {
     "data": {
      "text/plain": [
       "(1460, 1)"
      ]
     },
     "execution_count": 23,
     "metadata": {},
     "output_type": "execute_result"
    }
   ],
   "source": [
    "y.shape"
   ]
  },
  {
   "cell_type": "code",
   "execution_count": 24,
   "metadata": {},
   "outputs": [
    {
     "data": {
      "text/plain": [
       "array([[208500.],\n",
       "       [181500.],\n",
       "       [223500.],\n",
       "       ...,\n",
       "       [266500.],\n",
       "       [142125.],\n",
       "       [147500.]])"
      ]
     },
     "execution_count": 24,
     "metadata": {},
     "output_type": "execute_result"
    }
   ],
   "source": [
    "y"
   ]
  },
  {
   "cell_type": "code",
   "execution_count": 25,
   "metadata": {},
   "outputs": [],
   "source": [
    "from sklearn.preprocessing import StandardScaler\n",
    "X_scaler = StandardScaler().fit(X)\n",
    "X_standard = X_scaler.transform(X)\n",
    "y_scaler = StandardScaler()\n",
    "y_standard = y_scaler.fit_transform(y)"
   ]
  },
  {
   "cell_type": "code",
   "execution_count": 26,
   "metadata": {},
   "outputs": [
    {
     "name": "stdout",
     "output_type": "stream",
     "text": [
      "[180921.19589041]\n",
      "[79415.29188607]\n",
      "[[ 0.34727322]\n",
      " [ 0.00728832]\n",
      " [ 0.53615372]\n",
      " ...\n",
      " [ 1.07761115]\n",
      " [-0.48852299]\n",
      " [-0.42084081]]\n"
     ]
    },
    {
     "data": {
      "text/plain": [
       "(array([148., 723., 373., 135.,  51.,  19.,   4.,   3.,   2.,   2.]),\n",
       " array([-1.83870376, -0.93195144, -0.02519913,  0.88155319,  1.78830551,\n",
       "         2.69505783,  3.60181015,  4.50856246,  5.41531478,  6.3220671 ,\n",
       "         7.22881942]),\n",
       " <a list of 10 Patch objects>)"
      ]
     },
     "execution_count": 26,
     "metadata": {},
     "output_type": "execute_result"
    },
    {
     "data": {
      "image/png": "[encoded data removed]",
      "text/plain": [
       "<Figure size 432x288 with 1 Axes>"
      ]
     },
     "metadata": {
      "needs_background": "light"
     },
     "output_type": "display_data"
    }
   ],
   "source": [
    "print(y_scaler.mean_)\n",
    "print(np.sqrt(y_scaler.var_) )\n",
    "y_train = y_standard\n",
    "print(y_train)\n",
    "plt.hist(y_train)"
   ]
  },
  {
   "cell_type": "code",
   "execution_count": 27,
   "metadata": {},
   "outputs": [
    {
     "name": "stdout",
     "output_type": "stream",
     "text": [
      "[6.99179459e+01 1.05168281e+04 6.09931507e+00 1.97126781e+03\n",
      " 1.98486575e+03 1.03117123e+02 4.43639726e+02 4.65493151e+01\n",
      " 5.67240411e+02 1.05742945e+03 1.16262671e+03 3.46992466e+02\n",
      " 5.84452055e+00 1.51546370e+03 4.25342466e-01 5.75342466e-02\n",
      " 1.56506849e+00 3.82876712e-01 2.86643836e+00 1.04657534e+00\n",
      " 6.51780822e+00 6.13013699e-01 1.86873973e+03 1.76712329e+00\n",
      " 4.72980137e+02 9.42445205e+01 4.66602740e+01 2.19541096e+01\n",
      " 3.40958904e+00 1.50609589e+01 2.75890411e+00 4.34890411e+01\n",
      " 0.00000000e+00 4.31506849e-02 6.84931507e-03 2.05479452e-02\n",
      " 3.67123288e-01 4.72602740e-02 2.73972603e-03 8.21917808e-03\n",
      " 9.86301370e-02 2.04794521e-01 4.10958904e-02 1.09589041e-02\n",
      " 3.97260274e-02 1.36986301e-02 3.56164384e-02 4.45205479e-02\n",
      " 1.09589041e-02 7.88356164e-01 1.49315068e-01 9.95890411e-01\n",
      " 9.37671233e-01 2.80821918e-02 2.80821918e-02 6.84931507e-03\n",
      " 6.33561644e-01 3.42465753e-02 2.46575342e-02 8.97945205e-01\n",
      " 6.84931507e-04 0.00000000e+00 6.43835616e-02 3.21917808e-02\n",
      " 2.73972603e-03 7.20547945e-01 4.45205479e-02 8.90410959e-03\n",
      " 1.36986301e-03 1.09589041e-02 3.97260274e-02 1.91780822e-02\n",
      " 1.02739726e-01 3.49315068e-02 6.84931507e-02 5.41095890e-02\n",
      " 2.53424658e-02 1.16438356e-02 3.35616438e-02 1.54109589e-01\n",
      " 6.16438356e-03 5.00000000e-02 2.80821918e-02 5.27397260e-02\n",
      " 7.73972603e-02 1.71232877e-02 5.06849315e-02 4.04109589e-02\n",
      " 5.89041096e-02 1.71232877e-02 2.60273973e-02 7.53424658e-03\n",
      " 5.54794521e-02 8.63013699e-01 5.47945205e-03 1.30136986e-02\n",
      " 7.53424658e-03 1.78082192e-02 1.36986301e-03 3.42465753e-03\n",
      " 4.10958904e-03 9.89726027e-01 6.84931507e-04 1.36986301e-03\n",
      " 6.84931507e-04 6.84931507e-04 1.36986301e-03 2.12328767e-02\n",
      " 3.56164384e-02 2.94520548e-02 7.80821918e-02 9.58904110e-03\n",
      " 4.97260274e-01 5.47945205e-03 7.53424658e-03 3.04794521e-01\n",
      " 2.53424658e-02 4.45205479e-02 3.42465753e-03 1.71232877e-02\n",
      " 3.90410959e-02 5.62328767e-01 1.72602740e-01 1.40410959e-01\n",
      " 4.93150685e-02 1.50684932e-02 7.81506849e-01 7.53424658e-03\n",
      " 1.95890411e-01 4.79452055e-03 1.36986301e-03 9.82191781e-01\n",
      " 6.84931507e-04 6.84931507e-04 6.84931507e-04 7.53424658e-03\n",
      " 3.42465753e-03 4.10958904e-03 6.84931507e-04 1.36986301e-03\n",
      " 3.42465753e-02 6.84931507e-04 4.17808219e-02 1.52054795e-01\n",
      " 6.84931507e-04 1.50684932e-01 7.39726027e-02 1.36986301e-03\n",
      " 1.71232877e-02 3.52739726e-01 1.41095890e-01 1.78082192e-02\n",
      " 2.05479452e-03 4.79452055e-03 1.71232877e-02 6.84931507e-04\n",
      " 4.10958904e-02 1.41780822e-01 6.84931507e-03 1.46575342e-01\n",
      " 6.84931507e-04 9.72602740e-02 3.42465753e-03 1.78082192e-02\n",
      " 3.45205479e-01 1.34931507e-01 2.60273973e-02 3.04794521e-01\n",
      " 5.97260274e-01 8.76712329e-02 9.58904110e-03 3.34246575e-01\n",
      " 6.20547945e-01 1.91780822e-02 1.00000000e-01 6.84931507e-04\n",
      " 8.78082192e-01 4.34246575e-01 4.43150685e-01 1.64383562e-02\n",
      " 4.10958904e-03 2.05479452e-03 2.39726027e-02 4.23287671e-01\n",
      " 2.53424658e-02 4.44520548e-01 4.45205479e-02 2.53424658e-02\n",
      " 1.36986301e-03 8.97945205e-01 9.17808219e-02 7.80821918e-02\n",
      " 6.52739726e-01 2.60273973e-02 1.01369863e-01 2.86301370e-01\n",
      " 5.06849315e-02 2.53424658e-02 9.10958904e-02 2.94520548e-01\n",
      " 2.26027397e-02 9.58904110e-03 3.15068493e-02 2.60273973e-02\n",
      " 3.69863014e-02 8.60273973e-01 9.78082192e-01 1.23287671e-02\n",
      " 4.79452055e-03 1.36986301e-03 2.73972603e-03 3.35616438e-02\n",
      " 1.65068493e-01 6.84931507e-04 2.93150685e-01 9.34931507e-01\n",
      " 1.84931507e-02 2.05479452e-03 6.84931507e-04 6.84931507e-04\n",
      " 9.13698630e-01 2.67123288e-02 4.01369863e-01 5.03424658e-01\n",
      " 3.42465753e-03 2.12328767e-02 2.32876712e-02 1.02739726e-02\n",
      " 6.84931507e-04 9.31506849e-01 2.26027397e-02 2.60273973e-01\n",
      " 4.72602740e-01 1.36986301e-02 2.14383562e-01 5.95890411e-01\n",
      " 1.30136986e-02 6.02739726e-02 6.16438356e-03 2.65068493e-01\n",
      " 5.54794521e-02 5.54794521e-02 2.89041096e-01 4.14383562e-01\n",
      " 3.28767123e-02 9.58904110e-03 5.54794521e-02 2.05479452e-03\n",
      " 8.97945205e-01 2.39726027e-02 6.16438356e-03 5.54794521e-02\n",
      " 4.79452055e-03 9.08219178e-01 2.05479452e-02 9.17808219e-01\n",
      " 1.36986301e-03 2.05479452e-03 9.95205479e-01 3.69863014e-02\n",
      " 1.07534247e-01 7.53424658e-03 8.07534247e-01 9.63013699e-01\n",
      " 1.36986301e-03 3.35616438e-02 6.84931507e-04 6.09589041e-02\n",
      " 5.41095890e-02 4.04109589e-02 3.56164384e-02 7.26027397e-02\n",
      " 9.65753425e-02 1.39726027e-01 1.73287671e-01 1.60273973e-01\n",
      " 8.35616438e-02 4.31506849e-02 2.25342466e-01 2.08219178e-01\n",
      " 2.31506849e-01 1.19863014e-01 2.73972603e-03 1.36986301e-03\n",
      " 6.16438356e-03 3.42465753e-03 3.42465753e-03 8.35616438e-02\n",
      " 2.05479452e-03 8.67808219e-01 2.73972603e-03 8.21917808e-03\n",
      " 1.36986301e-02 8.20547945e-01 8.56164384e-02]\n",
      "[2.20183141e+01 9.97784611e+03 1.38252284e+00 3.01925588e+01\n",
      " 2.06383353e+01 1.80669468e+02 4.55941866e+02 1.61264017e+02\n",
      " 4.41715605e+02 4.38555057e+02 3.86455322e+02 4.36378914e+02\n",
      " 4.86064268e+01 5.25300394e+02 5.18732867e-01 2.38670868e-01\n",
      " 5.50727099e-01 5.02713131e-01 8.15498620e-01 2.20262727e-01\n",
      " 1.62483655e+00 6.44445572e-01 4.53541893e+02 7.47059036e-01\n",
      " 2.13731608e+02 1.25295863e+02 6.62333334e+01 6.10982138e+01\n",
      " 2.93072887e+01 5.57383170e+01 4.01635452e+01 4.95953090e+02\n",
      " 0.00000000e+00 2.03196219e-01 8.24766752e-02 1.41865172e-01\n",
      " 4.82020518e-01 2.12195053e-01 5.22706412e-02 9.02863400e-02\n",
      " 2.98164775e-01 4.03551391e-01 1.98512010e-01 1.04109589e-01\n",
      " 1.95314798e-01 1.16236731e-01 1.85331885e-01 2.06248561e-01\n",
      " 1.04109589e-01 4.08473650e-01 3.56398764e-01 6.39742160e-02\n",
      " 2.41751715e-01 1.65207694e-01 1.65207694e-01 8.24766752e-02\n",
      " 4.81831181e-01 1.81861891e-01 1.55079142e-01 3.02720355e-01\n",
      " 2.61622319e-02 0.00000000e+00 2.45434958e-01 1.76509122e-01\n",
      " 5.22706412e-02 4.48729990e-01 2.06248561e-01 9.39405473e-02\n",
      " 3.69863014e-02 1.04109589e-01 1.95314798e-01 1.37150586e-01\n",
      " 3.03618634e-01 1.83606363e-01 2.52590259e-01 2.26233820e-01\n",
      " 1.57163053e-01 1.07276543e-01 1.80097918e-01 3.61053768e-01\n",
      " 7.82712204e-02 2.17944947e-01 1.65207694e-01 2.23513416e-01\n",
      " 2.67220741e-01 1.29730801e-01 2.19353526e-01 1.96921084e-01\n",
      " 2.35445143e-01 1.29730801e-01 1.59216745e-01 8.64724332e-02\n",
      " 2.28913701e-01 3.43832888e-01 7.38202388e-02 1.13332883e-01\n",
      " 8.64724332e-02 1.32253871e-01 3.69863014e-02 5.84202812e-02\n",
      " 6.39742160e-02 1.00838574e-01 2.61622319e-02 3.69863014e-02\n",
      " 2.61622319e-02 2.61622319e-02 3.69863014e-02 1.44159778e-01\n",
      " 1.85331885e-01 1.69069901e-01 2.68300882e-01 9.74530214e-02\n",
      " 4.99992494e-01 7.38202388e-02 8.64724332e-02 4.60320346e-01\n",
      " 1.57163053e-01 2.06248561e-01 5.84202812e-02 1.29730801e-01\n",
      " 1.93692769e-01 4.96099914e-01 3.77903472e-01 3.47412898e-01\n",
      " 2.16525039e-01 1.21825423e-01 4.13223782e-01 8.64724332e-02\n",
      " 3.96884565e-01 6.90762848e-02 3.69863014e-02 1.32253871e-01\n",
      " 2.61622319e-02 2.61622319e-02 2.61622319e-02 8.64724332e-02\n",
      " 5.84202812e-02 6.39742160e-02 2.61622319e-02 3.69863014e-02\n",
      " 1.81861891e-01 2.61622319e-02 2.00087943e-01 3.59073995e-01\n",
      " 2.61622319e-02 3.57741503e-01 2.61726301e-01 3.69863014e-02\n",
      " 1.29730801e-01 4.77822573e-01 3.48120439e-01 1.32253871e-01\n",
      " 4.52832457e-02 6.90762848e-02 1.29730801e-01 2.61622319e-02\n",
      " 1.98512010e-01 3.48825200e-01 8.24766752e-02 3.53682077e-01\n",
      " 2.61622319e-02 2.96311851e-01 5.84202812e-02 1.32253871e-01\n",
      " 4.75435228e-01 3.41650399e-01 1.59216745e-01 4.60320346e-01\n",
      " 4.90449222e-01 2.82816173e-01 9.74530214e-02 4.71726406e-01\n",
      " 4.85250650e-01 1.37150586e-01 3.00000000e-01 2.61622319e-02\n",
      " 3.27190856e-01 4.95657631e-01 4.96757642e-01 1.27153988e-01\n",
      " 6.39742160e-02 4.52832457e-02 1.52963777e-01 4.94080174e-01\n",
      " 1.57163053e-01 4.96912498e-01 2.06248561e-01 1.57163053e-01\n",
      " 3.69863014e-02 3.02720355e-01 2.88716301e-01 2.68300882e-01\n",
      " 4.76099334e-01 1.59216745e-01 3.01817849e-01 4.52031963e-01\n",
      " 2.19353526e-01 1.57163053e-01 2.87745424e-01 4.55826935e-01\n",
      " 1.48633293e-01 9.74530214e-02 1.74683049e-01 1.59216745e-01\n",
      " 1.88728151e-01 3.46702559e-01 1.46415224e-01 1.10348397e-01\n",
      " 6.90762848e-02 3.69863014e-02 5.22706412e-02 1.80097918e-01\n",
      " 3.71242354e-01 2.61622319e-02 4.55206943e-01 2.46646679e-01\n",
      " 1.34726219e-01 4.52832457e-02 2.61622319e-02 2.61622319e-02\n",
      " 2.80808553e-01 1.61241373e-01 4.90175577e-01 4.99988272e-01\n",
      " 5.84202812e-02 1.44159778e-01 1.50815634e-01 1.00838574e-01\n",
      " 2.61622319e-02 2.52590259e-01 1.48633293e-01 4.38784038e-01\n",
      " 4.99248826e-01 1.16236731e-01 4.10394018e-01 4.90718890e-01\n",
      " 1.13332883e-01 2.37993741e-01 7.82712204e-02 4.41369672e-01\n",
      " 2.28913701e-01 2.28913701e-01 4.53317042e-01 4.92615292e-01\n",
      " 1.78313864e-01 9.74530214e-02 2.28913701e-01 4.52832457e-02\n",
      " 3.02720355e-01 1.52963777e-01 7.82712204e-02 2.28913701e-01\n",
      " 6.90762848e-02 2.88716301e-01 1.41865172e-01 2.74656680e-01\n",
      " 3.69863014e-02 4.52832457e-02 6.90762848e-02 1.88728151e-01\n",
      " 3.09791272e-01 8.64724332e-02 3.94236841e-01 1.88728151e-01\n",
      " 3.69863014e-02 1.80097918e-01 2.61622319e-02 2.39254919e-01\n",
      " 2.26233820e-01 1.96921084e-01 1.85331885e-01 2.59483298e-01\n",
      " 2.95378648e-01 3.46702559e-01 3.78495778e-01 3.66859955e-01\n",
      " 2.76729282e-01 2.03196219e-01 4.17807658e-01 4.06034422e-01\n",
      " 4.21795481e-01 3.24801280e-01 5.22706412e-02 3.69863014e-02\n",
      " 7.82712204e-02 5.84202812e-02 5.84202812e-02 2.76729282e-01\n",
      " 4.52832457e-02 3.38699150e-01 5.22706412e-02 9.02863400e-02\n",
      " 1.16236731e-01 3.83730393e-01 2.79796826e-01]\n"
     ]
    },
    {
     "data": {
      "text/plain": [
       "array([[-0.22335706, -0.20714171,  0.65147924, ..., -0.11785113,\n",
       "         0.4676514 , -0.30599503],\n",
       "       [ 0.45789401, -0.09188637, -0.07183611, ..., -0.11785113,\n",
       "         0.4676514 , -0.30599503],\n",
       "       [-0.08710685,  0.07347998,  0.65147924, ..., -0.11785113,\n",
       "         0.4676514 , -0.30599503],\n",
       "       ...,\n",
       "       [-0.17794032, -0.14781027,  0.65147924, ..., -0.11785113,\n",
       "         0.4676514 , -0.30599503],\n",
       "       [-0.08710685, -0.08016039, -0.79515147, ..., -0.11785113,\n",
       "         0.4676514 , -0.30599503],\n",
       "       [ 0.23081032, -0.05811155, -0.79515147, ..., -0.11785113,\n",
       "         0.4676514 , -0.30599503]])"
      ]
     },
     "execution_count": 27,
     "metadata": {},
     "output_type": "execute_result"
    }
   ],
   "source": [
    "print(X_scaler.mean_)\n",
    "print(np.sqrt(X_scaler.var_))\n",
    "X_train = X_standard\n",
    "X_train"
   ]
  },
  {
   "cell_type": "code",
   "execution_count": 28,
   "metadata": {},
   "outputs": [
    {
     "data": {
      "text/plain": [
       "array([[ 0.45789401,  0.11076257, -0.79515147, ..., -0.11785113,\n",
       "         0.4676514 , -0.30599503],\n",
       "       [ 0.50331075,  0.37584985, -0.07183611, ..., -0.11785113,\n",
       "         0.4676514 , -0.30599503],\n",
       "       [ 0.18539358,  0.33205282, -0.79515147, ..., -0.11785113,\n",
       "         0.4676514 , -0.30599503],\n",
       "       ...,\n",
       "       [ 4.09123304,  0.95042275, -0.79515147, ..., -0.11785113,\n",
       "        -2.13834494, -0.30599503],\n",
       "       [-0.35960727, -0.00759964, -0.79515147, ..., -0.11785113,\n",
       "         0.4676514 , -0.30599503],\n",
       "       [ 0.18539358, -0.08918038,  0.65147924, ..., -0.11785113,\n",
       "         0.4676514 , -0.30599503]])"
      ]
     },
     "execution_count": 28,
     "metadata": {},
     "output_type": "execute_result"
    }
   ],
   "source": [
    "X_test_standard = X_scaler.transform(X_test)\n",
    "X_test_standard"
   ]
  },
  {
   "cell_type": "markdown",
   "metadata": {},
   "source": [
    "### Linear regression"
   ]
  },
  {
   "cell_type": "code",
   "execution_count": 29,
   "metadata": {},
   "outputs": [
    {
     "data": {
      "text/plain": [
       "0.06516172205367643"
      ]
     },
     "execution_count": 29,
     "metadata": {},
     "output_type": "execute_result"
    }
   ],
   "source": [
    "lr = LinearRegression()\n",
    "lr.fit(X_train, y_train)\n",
    "y_pred = lr.predict(X_train)\n",
    "lr_train_mse = mean_squared_error(y_train, y_pred)\n",
    "lr_train_mse"
   ]
  },
  {
   "cell_type": "code",
   "execution_count": 30,
   "metadata": {},
   "outputs": [
    {
     "data": {
      "text/plain": [
       "{'copy_X': True, 'fit_intercept': True, 'n_jobs': None, 'normalize': False}"
      ]
     },
     "execution_count": 30,
     "metadata": {},
     "output_type": "execute_result"
    }
   ],
   "source": [
    "lr.get_params()"
   ]
  },
  {
   "cell_type": "code",
   "execution_count": 31,
   "metadata": {},
   "outputs": [
    {
     "name": "stdout",
     "output_type": "stream",
     "text": [
      "Cross-validation MSE : 8.659714186839386e+21\n",
      "Training MSE : 0.06516172205367643\n"
     ]
    }
   ],
   "source": [
    "### one way of doing cross validation\n",
    "from sklearn.model_selection import cross_val_score\n",
    "\n",
    "lreg = LinearRegression()\n",
    "\n",
    "lr_cv_scores = -cross_val_score(lreg ,X_train, y_train, scoring='neg_mean_squared_error',\n",
    "                      cv=10, n_jobs = -1)\n",
    "\n",
    "lr_cv_mse = (np.sum(lr_cv_scores) )/ 10\n",
    "\n",
    "print('Cross-validation MSE : {}' . format(lr_cv_mse))\n",
    "print('Training MSE : {}' . format(lr_train_mse))\n"
   ]
  },
  {
   "cell_type": "code",
   "execution_count": 32,
   "metadata": {},
   "outputs": [
    {
     "name": "stdout",
     "output_type": "stream",
     "text": [
      "93057585326.71791\n",
      "0.2552679416880945\n"
     ]
    }
   ],
   "source": [
    "### other way of doing cross validation\n",
    "steps = [('Linear_regressor', LinearRegression())]\n",
    "pipeline = Pipeline(steps)\n",
    "\n",
    "parameters = {'Linear_regressor__fit_intercept' : [True]}\n",
    "\n",
    "lr_cv = GridSearchCV(pipeline ,scoring='neg_mean_squared_error' ,  param_grid=parameters, cv= 10, n_jobs = -1)\n",
    "\n",
    "lr_cv.fit(X_train, y_train)\n",
    "\n",
    "print(np.sqrt( -lr_cv.best_score_) )\n",
    "\n",
    "lr_best_model = lr_cv.best_estimator_\n",
    "lr_y_train_pred = lr_best_model.predict(X_train)\n",
    "lr_bestmodel_train_mse = mean_squared_error(y_train, lr_y_train_pred)\n",
    "print(np.sqrt(lr_bestmodel_train_mse) )"
   ]
  },
  {
   "cell_type": "code",
   "execution_count": null,
   "metadata": {},
   "outputs": [],
   "source": []
  },
  {
   "cell_type": "markdown",
   "metadata": {},
   "source": [
    "cv error > training error which shows the overfitting of model"
   ]
  },
  {
   "cell_type": "markdown",
   "metadata": {},
   "source": [
    "### Lasso Regression (L1 norm)"
   ]
  },
  {
   "cell_type": "code",
   "execution_count": 33,
   "metadata": {},
   "outputs": [
    {
     "name": "stdout",
     "output_type": "stream",
     "text": [
      "{'lasso_Regressor__alpha': 0.00032745491628777284}\n",
      "Lasso regressor Cross-validation error: 0.4296162471963255\n",
      "Lasso regressor training error: 0.3329287352716926\n"
     ]
    }
   ],
   "source": [
    "from sklearn.linear_model import Lasso\n",
    "\n",
    "\n",
    "steps = [('lasso_Regressor', Lasso(normalize=True, random_state = 10))]\n",
    "pipeline = Pipeline(steps)\n",
    "\n",
    "parameters = {'lasso_Regressor__alpha' : np.logspace(-5, 0 , 100) }\n",
    "\n",
    "lasso_cv = GridSearchCV(pipeline ,scoring='neg_mean_squared_error' ,  param_grid= parameters, cv= 10, n_jobs = -1)\n",
    "\n",
    "lasso_cv.fit(X_train, y_train)\n",
    "\n",
    "print(lasso_cv.best_params_)\n",
    "\n",
    "print('Lasso regressor Cross-validation error: {}' .format(np.sqrt(-lasso_cv.best_score_) ) )\n",
    "\n",
    "lasso_cv_best_model = lasso_cv.best_estimator_\n",
    "lasso_y_train_pred = lasso_cv_best_model.predict(X_train)\n",
    "\n",
    "### ----- or use following line instead of above 2 lines of code ------\n",
    "# lasso_y_train_pred = lasso_cv.predict(X_train)\n",
    "### ---------------\n",
    "lasso_train_mse = mean_squared_error(y_train,lasso_y_train_pred )\n",
    "\n",
    "print('Lasso regressor training error: {}' .format(np.sqrt(lasso_train_mse) ) )\n"
   ]
  },
  {
   "cell_type": "code",
   "execution_count": 34,
   "metadata": {},
   "outputs": [
    {
     "name": "stdout",
     "output_type": "stream",
     "text": [
      "        Id      SalePrice\n",
      "0     1461  108677.196205\n",
      "1     1462  158491.447656\n",
      "2     1463  174223.898481\n",
      "3     1464  193624.353280\n",
      "4     1465  216795.117254\n",
      "...    ...            ...\n",
      "1454  2915   71839.563516\n",
      "1455  2916   82280.596758\n",
      "1456  2917  172993.845447\n",
      "1457  2918  112915.903824\n",
      "1458  2919  225633.404868\n",
      "\n",
      "[1459 rows x 2 columns]\n"
     ]
    }
   ],
   "source": [
    "house_pred_lasso = lasso_cv_best_model.predict(X_test_standard)\n",
    "house_predictions_lasso = y_scaler.inverse_transform(house_pred_lasso)\n",
    "house_prediction_lasso = pd.DataFrame(house_predictions_lasso, columns=['SalePrice'])\n",
    "house_prediction_lasso_df = pd.concat([test_id ,house_prediction_lasso], axis = 1)\n",
    "print(house_prediction_lasso_df)\n",
    "house_prediction_lasso_df.to_csv(r'house_predictions_lasso.csv', index=False)"
   ]
  },
  {
   "cell_type": "code",
   "execution_count": null,
   "metadata": {},
   "outputs": [],
   "source": []
  },
  {
   "cell_type": "markdown",
   "metadata": {},
   "source": [
    " High variance"
   ]
  },
  {
   "cell_type": "markdown",
   "metadata": {},
   "source": [
    "### Ridge "
   ]
  },
  {
   "cell_type": "code",
   "execution_count": 35,
   "metadata": {},
   "outputs": [
    {
     "name": "stdout",
     "output_type": "stream",
     "text": [
      "{'ridge_Regressor__alpha': 8.697490026177835}\n",
      "Ridge regressor Cross-validation error: 0.6442280906073876\n",
      "Ridge regressor training error: 0.5732893566513935\n"
     ]
    }
   ],
   "source": [
    "from sklearn.linear_model import Ridge\n",
    "\n",
    "\n",
    "steps = [('ridge_Regressor', Ridge(normalize=True, random_state = 10))]\n",
    "pipeline = Pipeline(steps)\n",
    "\n",
    "parameters = {'ridge_Regressor__alpha' : np.logspace(-3, 3 , 100) }\n",
    "\n",
    "ridge_cv = GridSearchCV(pipeline ,scoring='neg_mean_squared_error' ,  param_grid= parameters, cv= 10, n_jobs = -1)\n",
    "\n",
    "ridge_cv.fit(X_train, y_train)\n",
    "\n",
    "print(ridge_cv.best_params_)\n",
    "\n",
    "print('Ridge regressor Cross-validation error: {}' .format(np.sqrt(-ridge_cv.best_score_) ) )\n",
    "\n",
    "ridge_cv_best_model = ridge_cv.best_estimator_\n",
    "ridge_y_train_pred = ridge_cv_best_model.predict(X_train)\n",
    "\n",
    "### ----- or use following line instead of above 2 lines of code ------\n",
    "# ridge_y_train_pred = ridge_cv.predict(X_train)\n",
    "### ---------------\n",
    "ridge_train_mse = mean_squared_error(y_train, ridge_y_train_pred )\n",
    "\n",
    "print('Ridge regressor training error: {}' .format(np.sqrt(ridge_train_mse) ) )"
   ]
  },
  {
   "cell_type": "markdown",
   "metadata": {},
   "source": [
    "Medium variance"
   ]
  },
  {
   "cell_type": "markdown",
   "metadata": {},
   "source": [
    "### DecisionTreeRegressor"
   ]
  },
  {
   "cell_type": "code",
   "execution_count": null,
   "metadata": {},
   "outputs": [],
   "source": []
  },
  {
   "cell_type": "code",
   "execution_count": 36,
   "metadata": {},
   "outputs": [
    {
     "name": "stdout",
     "output_type": "stream",
     "text": [
      "0.5279284131648425\n"
     ]
    }
   ],
   "source": [
    "dtr = DecisionTreeRegressor(max_depth = 3 ,min_samples_leaf = 0.2 , random_state = 11)\n",
    "\n",
    "dtr.fit(X_train, y_train)\n",
    "dtr_y_pred = dtr.predict(X_train)\n",
    "dtr_base_mse = mean_squared_error(y_train, dtr_y_pred)\n",
    "print(dtr_base_mse)\n",
    "\n"
   ]
  },
  {
   "cell_type": "code",
   "execution_count": 37,
   "metadata": {},
   "outputs": [
    {
     "data": {
      "text/plain": [
       "{'criterion': 'mse',\n",
       " 'max_depth': 3,\n",
       " 'max_features': None,\n",
       " 'max_leaf_nodes': None,\n",
       " 'min_impurity_decrease': 0.0,\n",
       " 'min_impurity_split': None,\n",
       " 'min_samples_leaf': 0.2,\n",
       " 'min_samples_split': 2,\n",
       " 'min_weight_fraction_leaf': 0.0,\n",
       " 'presort': False,\n",
       " 'random_state': 11,\n",
       " 'splitter': 'best'}"
      ]
     },
     "execution_count": 37,
     "metadata": {},
     "output_type": "execute_result"
    }
   ],
   "source": [
    "dtr.get_params()"
   ]
  },
  {
   "cell_type": "markdown",
   "metadata": {},
   "source": [
    "#### Cross validation for best model"
   ]
  },
  {
   "cell_type": "code",
   "execution_count": 43,
   "metadata": {},
   "outputs": [
    {
     "name": "stdout",
     "output_type": "stream",
     "text": [
      "{'Decision_Tree_Regressor__max_depth': 18.0, 'Decision_Tree_Regressor__min_samples_leaf': 0.001}\n",
      "Decision tree regressor Cross-validation error: 0.4848049370189802\n",
      "Decision tree regressor training error: 0.10829760986241092\n"
     ]
    }
   ],
   "source": [
    "\n",
    "steps = [('Decision_Tree_Regressor', DecisionTreeRegressor(random_state = 10))]\n",
    "pipeline = Pipeline(steps)\n",
    "\n",
    "parameters = {'Decision_Tree_Regressor__max_depth' : np.linspace(1,30,30) ,\n",
    "             'Decision_Tree_Regressor__min_samples_leaf' : [0.001,0.005, 0.1,0.2] }\n",
    "\n",
    "dtr_cv = GridSearchCV(pipeline ,scoring='neg_mean_squared_error' ,  param_grid= parameters, cv= 10, n_jobs = -1)\n",
    "\n",
    "dtr_cv.fit(X_train, y_train)\n",
    "\n",
    "print(dtr_cv.best_params_)\n",
    "\n",
    "print('Decision tree regressor Cross-validation error: {}' .format( np.sqrt(-dtr_cv.best_score_) ))\n",
    "\n",
    "dtr_cv_best_model = dtr_cv.best_estimator_\n",
    "dtr_y_train_pred = dtr_cv_best_model.predict(X_train)\n",
    "\n",
    "dtr_train_mse = mean_squared_error(y_train, dtr_y_train_pred)\n",
    "\n",
    "print('Decision tree regressor training error: {}' .format(np.sqrt(dtr_train_mse) ))"
   ]
  },
  {
   "cell_type": "code",
   "execution_count": 44,
   "metadata": {},
   "outputs": [
    {
     "name": "stdout",
     "output_type": "stream",
     "text": [
      "        Id  SalePrice\n",
      "0     1461   128250.0\n",
      "1     1462   163950.0\n",
      "2     1463   179000.0\n",
      "3     1464   176538.5\n",
      "4     1465   212750.0\n",
      "...    ...        ...\n",
      "1454  2915    79950.0\n",
      "1455  2916    82850.0\n",
      "1456  2917   168750.0\n",
      "1457  2918   104000.0\n",
      "1458  2919   193000.0\n",
      "\n",
      "[1459 rows x 2 columns]\n"
     ]
    }
   ],
   "source": [
    "house_pred_dtr = dtr_cv_best_model.predict(X_test_standard)\n",
    "\n",
    "house_predictions_dtr = y_scaler.inverse_transform(house_pred_dtr)\n",
    "\n",
    "house_prediction_dtr = pd.DataFrame(house_predictions_dtr, columns=['SalePrice'])\n",
    "\n",
    "house_prediction_dtr_df = pd.concat([test_id ,house_prediction_dtr], axis = 1)\n",
    "print(house_prediction_dtr_df)\n",
    "house_prediction_dtr_df.to_csv(r'house_predictions_dtr.csv', index=False)\n"
   ]
  },
  {
   "cell_type": "code",
   "execution_count": null,
   "metadata": {},
   "outputs": [],
   "source": []
  },
  {
   "cell_type": "code",
   "execution_count": null,
   "metadata": {},
   "outputs": [],
   "source": []
  },
  {
   "cell_type": "code",
   "execution_count": null,
   "metadata": {},
   "outputs": [],
   "source": []
  },
  {
   "cell_type": "markdown",
   "metadata": {},
   "source": [
    "#### Ensemble methods - Bagging , Boosting\n",
    "\n",
    "-RANDOM FORESTS (Bagging method with random sampling of features)"
   ]
  },
  {
   "cell_type": "code",
   "execution_count": 45,
   "metadata": {
    "scrolled": true
   },
   "outputs": [
    {
     "data": {
      "text/plain": [
       "{'bootstrap': True,\n",
       " 'criterion': 'mse',\n",
       " 'max_depth': None,\n",
       " 'max_features': 'auto',\n",
       " 'max_leaf_nodes': None,\n",
       " 'min_impurity_decrease': 0.0,\n",
       " 'min_impurity_split': None,\n",
       " 'min_samples_leaf': 1,\n",
       " 'min_samples_split': 2,\n",
       " 'min_weight_fraction_leaf': 0.0,\n",
       " 'n_estimators': 'warn',\n",
       " 'n_jobs': None,\n",
       " 'oob_score': False,\n",
       " 'random_state': None,\n",
       " 'verbose': 0,\n",
       " 'warm_start': False}"
      ]
     },
     "execution_count": 45,
     "metadata": {},
     "output_type": "execute_result"
    }
   ],
   "source": [
    "from sklearn.ensemble import RandomForestRegressor\n",
    "\n",
    "rfreg = RandomForestRegressor()\n",
    "rfreg.get_params()"
   ]
  },
  {
   "cell_type": "code",
   "execution_count": 46,
   "metadata": {
    "scrolled": true
   },
   "outputs": [
    {
     "name": "stdout",
     "output_type": "stream",
     "text": [
      "Fitting 5 folds for each of 960 candidates, totalling 4800 fits\n"
     ]
    },
    {
     "name": "stderr",
     "output_type": "stream",
     "text": [
      "[Parallel(n_jobs=-1)]: Using backend LokyBackend with 16 concurrent workers.\n",
      "[Parallel(n_jobs=-1)]: Done  18 tasks      | elapsed:    0.3s\n",
      "[Parallel(n_jobs=-1)]: Done 419 tasks      | elapsed:   10.4s\n",
      "[Parallel(n_jobs=-1)]: Done 676 tasks      | elapsed:   20.5s\n",
      "[Parallel(n_jobs=-1)]: Done 1026 tasks      | elapsed:   34.2s\n",
      "[Parallel(n_jobs=-1)]: Done 1476 tasks      | elapsed:  1.1min\n",
      "[Parallel(n_jobs=-1)]: Done 2026 tasks      | elapsed:  1.7min\n",
      "[Parallel(n_jobs=-1)]: Done 2676 tasks      | elapsed:  2.8min\n",
      "[Parallel(n_jobs=-1)]: Done 3426 tasks      | elapsed:  4.0min\n",
      "[Parallel(n_jobs=-1)]: Done 4276 tasks      | elapsed:  5.6min\n",
      "[Parallel(n_jobs=-1)]: Done 4800 out of 4800 | elapsed:  6.5min finished\n",
      "//anaconda3/envs/TensorFlow/lib/python3.6/site-packages/sklearn/model_selection/_search.py:740: DataConversionWarning: A column-vector y was passed when a 1d array was expected. Please change the shape of y to (n_samples,), for example using ravel().\n",
      "  self.best_estimator_.fit(X, y, **fit_params)\n"
     ]
    },
    {
     "name": "stdout",
     "output_type": "stream",
     "text": [
      "{'max_depth': 15.0, 'max_features': 'auto', 'min_samples_leaf': 1, 'n_estimators': 300}\n",
      "Random Forest Cross-validation score: 0.3756793670728194\n",
      "Random forest training error : 0.13533432840365142\n"
     ]
    }
   ],
   "source": [
    "# Define the dictionary 'params_rf'\n",
    "params_rf = {\n",
    "    'n_estimators' : [50, 100, 200, 300] ,\n",
    "    'max_depth' : np.linspace(1,20,20), \n",
    "    'max_features' : ['log2', 'auto', 'sqrt'],\n",
    "    'min_samples_leaf' : [0.5, 1, 3, 5]\n",
    "}\n",
    "\n",
    "# Instantiate rf\n",
    "rf = RandomForestRegressor(random_state = 5)\n",
    "\n",
    "# Instantiate grid_rf\n",
    "rf_cv = GridSearchCV(estimator=rf,\n",
    "                       param_grid=params_rf,\n",
    "                       scoring='neg_mean_squared_error',\n",
    "                       cv=5,\n",
    "                       verbose=1,\n",
    "                       n_jobs=-1)\n",
    "\n",
    "rf_cv.fit(X_train, y_train)\n",
    "\n",
    "print(rf_cv.best_params_)\n",
    "\n",
    "print('Random Forest Cross-validation score: {}' .format(np.sqrt(-rf_cv.best_score_)) )\n",
    "\n",
    "# Extract the best estimator\n",
    "rf_cv_best_model = rf_cv.best_estimator_\n",
    "\n",
    "# Predict test set labels\n",
    "rf_train_y_pred = rf_cv_best_model.predict(X_train)\n",
    "\n",
    "rf_train_mse = mean_squared_error(y_train, rf_train_y_pred)\n",
    "\n",
    "print('Random forest training error : {}' .format(np.sqrt(rf_train_mse)))\n",
    "\n",
    "# Print rmse_train\n",
    "# print('Test RMSE of best model: {:.3f}'.format(RMSE(y_train, rf_train_y_pred))) \n"
   ]
  },
  {
   "cell_type": "code",
   "execution_count": null,
   "metadata": {},
   "outputs": [],
   "source": []
  },
  {
   "cell_type": "markdown",
   "metadata": {},
   "source": [
    "#### On Test Data prediction :"
   ]
  },
  {
   "cell_type": "code",
   "execution_count": 47,
   "metadata": {},
   "outputs": [
    {
     "name": "stdout",
     "output_type": "stream",
     "text": [
      "        Id      SalePrice\n",
      "0     1461  129758.143984\n",
      "1     1462  154049.126960\n",
      "2     1463  180666.801666\n",
      "3     1464  182221.653229\n",
      "4     1465  197195.513693\n",
      "...    ...            ...\n",
      "1454  2915   82797.152398\n",
      "1455  2916   85552.408462\n",
      "1456  2917  148700.530356\n",
      "1457  2918  111061.184162\n",
      "1458  2919  221520.038015\n",
      "\n",
      "[1459 rows x 2 columns]\n"
     ]
    }
   ],
   "source": [
    "house_pred_rf = rf_cv_best_model.predict(X_test_standard)\n",
    "house_predictions_rf = y_scaler.inverse_transform(house_pred_rf)\n",
    "house_prediction_rf = pd.DataFrame(house_predictions_rf, columns=['SalePrice'])\n",
    "house_prediction_rf_df = pd.concat([test_id ,house_prediction_rf], axis = 1)\n",
    "print(house_prediction_rf_df)\n",
    "house_prediction_rf_df.to_csv(r'house_predictions_rf.csv', index=False)"
   ]
  },
  {
   "cell_type": "code",
   "execution_count": null,
   "metadata": {},
   "outputs": [],
   "source": []
  },
  {
   "cell_type": "markdown",
   "metadata": {},
   "source": [
    "#### SVR"
   ]
  },
  {
   "cell_type": "code",
   "execution_count": null,
   "metadata": {},
   "outputs": [],
   "source": []
  },
  {
   "cell_type": "code",
   "execution_count": null,
   "metadata": {},
   "outputs": [],
   "source": []
  },
  {
   "cell_type": "markdown",
   "metadata": {},
   "source": [
    "### Neural Network"
   ]
  },
  {
   "cell_type": "code",
   "execution_count": null,
   "metadata": {},
   "outputs": [],
   "source": []
  }
 ],
 "metadata": {
  "kernelspec": {
   "display_name": "Python 3",
   "language": "python",
   "name": "python3"
  },
  "language_info": {
   "codemirror_mode": {
    "name": "ipython",
    "version": 3
   },
   "file_extension": ".py",
   "mimetype": "text/x-python",
   "name": "python",
   "nbconvert_exporter": "python",
   "pygments_lexer": "ipython3",
   "version": "3.6.9"
  }
 },
 "nbformat": 4,
 "nbformat_minor": 2
}
